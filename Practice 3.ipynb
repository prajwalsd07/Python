{
 "cells": [
  {
   "cell_type": "code",
   "execution_count": null,
   "id": "452553e3",
   "metadata": {},
   "outputs": [],
   "source": [
    "#printing the  number of incomplete braces\n",
    "def fun(s):\n",
    "    q=0\n",
    "    k=0\n",
    "    for i in range(len(s)):\n",
    "        \n",
    "        if s[i]==\"(\":\n",
    "            q=q+1\n",
    "            print(\"(\",q)\n",
    "        if s[0] ==\")\":\n",
    "            k=k+1\n",
    "            \n",
    "        if s[i]==\")\":\n",
    "            q=q-1\n",
    "            print(\")\",q)\n",
    "    if s[len(s)-1]==\"(\":\n",
    "        k=k+1\n",
    "    print(q)\n",
    "    print(k)\n",
    "    print((q+k))\n",
    "s=str(input())\n",
    "fun(s)"
   ]
  },
  {
   "cell_type": "code",
   "execution_count": null,
   "id": "15b626a0",
   "metadata": {},
   "outputs": [],
   "source": []
  },
  {
   "cell_type": "code",
   "execution_count": null,
   "id": "7f110677",
   "metadata": {},
   "outputs": [],
   "source": [
    "#sqare pattern\n",
    "def sq(n):\n",
    "    for i in range(n):\n",
    "        for j in range(n):\n",
    "            print(\"*\",end=\" \")\n",
    "        print()\n",
    "sq(5)"
   ]
  },
  {
   "cell_type": "code",
   "execution_count": 3,
   "id": "cf2a4bcd",
   "metadata": {},
   "outputs": [
    {
     "name": "stdout",
     "output_type": "stream",
     "text": [
      "\n",
      "*  \n",
      "*  *  \n",
      "*  *  *  \n",
      "*  *  *  *  \n",
      "*  *  *  *  *  \n",
      "*  *  *  *  *  *  \n",
      "*  *  *  *  *  \n",
      "*  *  *  *  \n",
      "*  *  *  \n",
      "*  *  \n",
      "*  \n",
      "\n"
     ]
    }
   ],
   "source": [
    "#printing daimond\n",
    "def sq(n):\n",
    "    m=0\n",
    "    mid=n//2\n",
    "    while m<=n:\n",
    "        for i in range(m):\n",
    "            print(\"* \",end=\" \")\n",
    "        m+=1\n",
    "        print()\n",
    "    while m>=0:\n",
    "        for k in range(m):\n",
    "                print(\"* \",end=\" \")\n",
    "        m=m-1\n",
    "        print()\n",
    "sq(5)"
   ]
  },
  {
   "cell_type": "code",
   "execution_count": null,
   "id": "20128e85",
   "metadata": {},
   "outputs": [],
   "source": [
    "5//2"
   ]
  },
  {
   "cell_type": "code",
   "execution_count": 6,
   "id": "1cbc3b82",
   "metadata": {},
   "outputs": [
    {
     "name": "stdout",
     "output_type": "stream",
     "text": [
      "  * \n",
      " * * \n",
      "* * * \n",
      " * * \n",
      "  * \n"
     ]
    }
   ],
   "source": [
    "n=3\n",
    "for i in range(n):\n",
    "    print(\" \"*(n-i-1 )+\"* \"*(i+1))\n",
    "for j in range(n-1,0,-1):\n",
    "    print(\" \"*(n-j)+\"* \"*(j))"
   ]
  },
  {
   "cell_type": "code",
   "execution_count": null,
   "id": "3ea35862",
   "metadata": {},
   "outputs": [],
   "source": [
    "s=\"*_\"\n",
    "print(s*3)"
   ]
  },
  {
   "cell_type": "code",
   "execution_count": 1,
   "id": "752a4309",
   "metadata": {},
   "outputs": [
    {
     "name": "stdout",
     "output_type": "stream",
     "text": [
      "hello\n"
     ]
    }
   ],
   "source": [
    "print(\"hello\")"
   ]
  },
  {
   "cell_type": "code",
   "execution_count": null,
   "id": "7f04bbf4",
   "metadata": {},
   "outputs": [],
   "source": [
    "#printing daimond\n",
    "for i in range(n):\n",
    "    print(\" \"*(n-i-1)+\"* \"*(i+1))\n",
    "for j in range(n-1,0,-1):\n",
    "    printint(\" \"*(n-j)+)"
   ]
  },
  {
   "cell_type": "code",
   "execution_count": null,
   "id": "a474fd7d",
   "metadata": {},
   "outputs": [],
   "source": [
    "#Encrypting the variables\n",
    "def enc(n):\n",
    "    z=ord(\"n\"\n",
    "    \n",
    "    "
   ]
  },
  {
   "cell_type": "code",
   "execution_count": 8,
   "id": "7664e627",
   "metadata": {},
   "outputs": [
    {
     "name": "stdout",
     "output_type": "stream",
     "text": [
      "12345\n",
      "5\n"
     ]
    }
   ],
   "source": [
    "#counting\n",
    "p=str(input())\n",
    "k=0\n",
    "for i in p:\n",
    "    k=k+1\n",
    "print(k)"
   ]
  },
  {
   "cell_type": "code",
   "execution_count": 14,
   "id": "06b6ee13",
   "metadata": {},
   "outputs": [
    {
     "name": "stdout",
     "output_type": "stream",
     "text": [
      "1234\n",
      "4321\n"
     ]
    }
   ],
   "source": [
    "#integer reversing\n",
    "def sam(n):\n",
    "    k=0\n",
    "    while n>0:\n",
    "        k=k*10+(n%10)\n",
    "        n=n//10\n",
    "    print(k)\n",
    "sam(int(input()))\n",
    "        "
   ]
  },
  {
   "cell_type": "code",
   "execution_count": 73,
   "id": "6346f3ed",
   "metadata": {},
   "outputs": [
    {
     "name": "stdout",
     "output_type": "stream",
     "text": [
      "7412839373\n",
      "47\n",
      "1\n",
      "2\n"
     ]
    }
   ],
   "source": [
    "#adding the list and adding the final sum digit\n",
    "def sun(n):\n",
    "    j=0\n",
    "    k=0\n",
    "    i=0\n",
    "    z=0\n",
    "    while n>0:\n",
    "        i=i+(n%10)\n",
    "        n=n//10\n",
    "    print(i)\n",
    "    while i>0:\n",
    "        j=j+(i%10)\n",
    "        i=i//10\n",
    "    if j>=10:\n",
    "        while j>0:\n",
    "            k=k+(j%10)\n",
    "            j=j//10\n",
    "            print(k)\n",
    "    else:\n",
    "        print(j)\n",
    "sun(int(input()))\n"
   ]
  },
  {
   "cell_type": "code",
   "execution_count": 71,
   "id": "4bb8fca6",
   "metadata": {},
   "outputs": [
    {
     "name": "stdout",
     "output_type": "stream",
     "text": [
      "77\n"
     ]
    },
    {
     "data": {
      "text/plain": [
       "['7', '7']"
      ]
     },
     "execution_count": 71,
     "metadata": {},
     "output_type": "execute_result"
    }
   ],
   "source": [
    "list1=list(input())\n",
    "list1"
   ]
  },
  {
   "cell_type": "code",
   "execution_count": 60,
   "id": "f68acf6b",
   "metadata": {},
   "outputs": [
    {
     "name": "stdout",
     "output_type": "stream",
     "text": [
      "True\n"
     ]
    }
   ],
   "source": [
    "k=\"akashshettyprajwalsuraj\"\n",
    "l=['akash','shetty','prajwal','suraj']\n",
    "s=''.join(l)\n",
    "print(s==k)"
   ]
  },
  {
   "cell_type": "code",
   "execution_count": 1,
   "id": "e373db87",
   "metadata": {},
   "outputs": [
    {
     "name": "stdout",
     "output_type": "stream",
     "text": [
      "hello\n"
     ]
    }
   ],
   "source": [
    "print(\"hello\")"
   ]
  },
  {
   "cell_type": "code",
   "execution_count": 76,
   "id": "5c8bc673",
   "metadata": {},
   "outputs": [
    {
     "name": "stdout",
     "output_type": "stream",
     "text": [
      "1234\n",
      "1\n"
     ]
    }
   ],
   "source": [
    "def sd(n):\n",
    "    s=0\n",
    "    while n>0:\n",
    "        r=n%10\n",
    "        s+=r\n",
    "        n=n//10\n",
    "    if s>9:\n",
    "        return sd(s)\n",
    "    else:\n",
    "        return s\n",
    "n=int(input())\n",
    "print(sd(n))\n",
    "        "
   ]
  },
  {
   "cell_type": "code",
   "execution_count": 1,
   "id": "c4f958dd",
   "metadata": {},
   "outputs": [
    {
     "name": "stdout",
     "output_type": "stream",
     "text": [
      "hello world\n"
     ]
    }
   ],
   "source": [
    "print(\"hello world\")"
   ]
  },
  {
   "cell_type": "code",
   "execution_count": 10,
   "id": "d888453b",
   "metadata": {},
   "outputs": [
    {
     "name": "stdout",
     "output_type": "stream",
     "text": [
      "['b', 'd', 'f', 'h']\n",
      "['a', 'c', 'e', 'g', 'k']\n"
     ]
    }
   ],
   "source": [
    "odd=[]\n",
    "even=[]\n",
    "l1=[\"a\",\"b\",\"c\",\"d\",\"e\",\"f\",\"g\",\"h\",\"k\"]\n",
    "for i in range(len(l1)):\n",
    "    if i%2==0:\n",
    "        even.append(l1[i])\n",
    "    else:\n",
    "        odd.append(l1[i])\n",
    "print(odd)\n",
    "print(even)\n",
    "    "
   ]
  },
  {
   "cell_type": "code",
   "execution_count": null,
   "id": "b0939b76",
   "metadata": {},
   "outputs": [],
   "source": []
  }
 ],
 "metadata": {
  "kernelspec": {
   "display_name": "Python 3",
   "language": "python",
   "name": "python3"
  },
  "language_info": {
   "codemirror_mode": {
    "name": "ipython",
    "version": 3
   },
   "file_extension": ".py",
   "mimetype": "text/x-python",
   "name": "python",
   "nbconvert_exporter": "python",
   "pygments_lexer": "ipython3",
   "version": "3.8.8"
  }
 },
 "nbformat": 4,
 "nbformat_minor": 5
}

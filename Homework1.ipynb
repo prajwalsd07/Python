{
 "cells": [
  {
   "cell_type": "code",
   "execution_count": 17,
   "id": "95711699",
   "metadata": {},
   "outputs": [
    {
     "name": "stdout",
     "output_type": "stream",
     "text": [
      "541\n"
     ]
    },
    {
     "data": {
      "text/plain": [
       "True"
      ]
     },
     "execution_count": 17,
     "metadata": {},
     "output_type": "execute_result"
    }
   ],
   "source": [
    "#prime number checking\n",
    "def fun1(n):\n",
    "    if n==1:\n",
    "        return False\n",
    "    if n<1:\n",
    "        return False\n",
    "    for i in range(2,n):\n",
    "        if n%i==0:\n",
    "            return False\n",
    "    return True\n",
    "n=int(input())\n",
    "fun1(n)\n",
    "    "
   ]
  },
  {
   "cell_type": "code",
   "execution_count": null,
   "id": "a7257281",
   "metadata": {},
   "outputs": [],
   "source": [
    "#first n prime numbers \n",
    "def fun1(n):\n",
    "    if n==1:\n",
    "        return False\n",
    "    if n<1:\n",
    "        return False\n",
    "    for i in range(2,n):\n",
    "        if n%i==0:\n",
    "            return False\n",
    "    return True\n",
    "n=int(input())\n",
    "count=0\n",
    "i=2\n",
    "while count<100:\n",
    "    if fun1(i) == True:\n",
    "        print(i)\n",
    "        count+=1\n",
    "    i+=1\n",
    "    "
   ]
  },
  {
   "cell_type": "code",
   "execution_count": 22,
   "id": "7b317e01",
   "metadata": {},
   "outputs": [
    {
     "name": "stdout",
     "output_type": "stream",
     "text": [
      "200\n",
      "300\n",
      "211 223 227 229 233 239 241 251 257 263 269 271 277 281 283 293 "
     ]
    }
   ],
   "source": [
    "# prime numbers between range\n",
    "def fun1(n):\n",
    "    if n==1:\n",
    "        return False\n",
    "    if n<1:\n",
    "        return False\n",
    "    for i in range(2,n):\n",
    "        if n%i==0:\n",
    "            return False\n",
    "    return True\n",
    "n=int(input())\n",
    "m=int(input())\n",
    "for i in range(n,m+1):\n",
    "    if fun1(i)==True:\n",
    "        print(i,end=\" \")\n",
    "\n"
   ]
  },
  {
   "cell_type": "code",
   "execution_count": 28,
   "id": "29aa62a4",
   "metadata": {},
   "outputs": [
    {
     "name": "stdout",
     "output_type": "stream",
     "text": [
      "1 2 3 4\n"
     ]
    },
    {
     "data": {
      "text/plain": [
       "['1', '2', '3', '4']"
      ]
     },
     "execution_count": 28,
     "metadata": {},
     "output_type": "execute_result"
    }
   ],
   "source": [
    "m=[int(i) for i in input().split(\" \")]\n",
    "m=list(map(str,m))\n",
    "m\n",
    "\n"
   ]
  },
  {
   "cell_type": "markdown",
   "id": "d412fe7b",
   "metadata": {},
   "source": []
  },
  {
   "cell_type": "code",
   "execution_count": 29,
   "id": "f82f5ba3",
   "metadata": {},
   "outputs": [
    {
     "name": "stdout",
     "output_type": "stream",
     "text": [
      "5\n"
     ]
    }
   ],
   "source": [
    "x=lambda x,y:x if x>y else y\n",
    "print(x(4,5))"
   ]
  },
  {
   "cell_type": "code",
   "execution_count": 34,
   "id": "441bca56",
   "metadata": {},
   "outputs": [
    {
     "name": "stdout",
     "output_type": "stream",
     "text": [
      "2j\n"
     ]
    }
   ],
   "source": [
    "import cmath as m\n",
    "print(m.sqrt(-4))\n"
   ]
  },
  {
   "cell_type": "code",
   "execution_count": 51,
   "id": "47805dd1",
   "metadata": {},
   "outputs": [
    {
     "data": {
      "text/plain": [
       "[5, 6, 4, 7]"
      ]
     },
     "execution_count": 51,
     "metadata": {},
     "output_type": "execute_result"
    }
   ],
   "source": [
    "#\n",
    "def fun(n):\n",
    "    k=0\n",
    "    while k<len(n):\n",
    "        for i in range(len(n)):\n",
    "            for j in range(i+1,len(n)):\n",
    "                if n[i]==n[j]:\n",
    "                    n[j]=n[j]+1\n",
    "                \n",
    "        k+=1\n",
    "    \n",
    "    return n\n",
    "fun([5,5,4,4])"
   ]
  },
  {
   "cell_type": "code",
   "execution_count": 59,
   "id": "03833d19",
   "metadata": {},
   "outputs": [
    {
     "name": "stdout",
     "output_type": "stream",
     "text": [
      "leap year\n"
     ]
    }
   ],
   "source": [
    "#leap year\n",
    "def l(n):\n",
    "    if (n%100!=0 or n%400==0) and n%4==0:\n",
    "        print(\"leap year\")\n",
    "    else:\n",
    "        print(\"not a leap year\")\n",
    "l(2012)"
   ]
  },
  {
   "cell_type": "markdown",
   "id": "54a51fd1",
   "metadata": {},
   "source": [
    "### "
   ]
  },
  {
   "cell_type": "code",
   "execution_count": 84,
   "id": "6c948b03",
   "metadata": {},
   "outputs": [
    {
     "name": "stdout",
     "output_type": "stream",
     "text": [
      "0 1 1 2 3 5 8 13 21 34 55 89 144 233 377 "
     ]
    }
   ],
   "source": [
    "#fibinoccie\n",
    "def fun(n):\n",
    "    if n<=1:\n",
    "        return n\n",
    "    else:\n",
    "        c=0\n",
    "        i=0\n",
    "        j=1\n",
    "        k=0\n",
    "        while c<n:\n",
    "            print(i,end=\" \")\n",
    "            k=i+j\n",
    "            i=j\n",
    "            j=k\n",
    "            c+=1\n",
    "fun(15)\n",
    "            "
   ]
  },
  {
   "cell_type": "code",
   "execution_count": 106,
   "id": "51bd3603",
   "metadata": {},
   "outputs": [
    {
     "name": "stdout",
     "output_type": "stream",
     "text": [
      "armstrong\n"
     ]
    }
   ],
   "source": [
    "#armstrong number\n",
    "def fun(n):\n",
    "    x=c=0\n",
    "    y=z=n\n",
    "    while n>0:\n",
    "        n=n//10\n",
    "        c+=1\n",
    "    while y>0:\n",
    "        m=y%10\n",
    "        y=y//10\n",
    "        x=x+(m**c)\n",
    "    if z == x:\n",
    "        print('armstrong')\n",
    "    else:\n",
    "        return False\n",
    "fun(153)"
   ]
  },
  {
   "cell_type": "code",
   "execution_count": 88,
   "id": "9c4cb955",
   "metadata": {},
   "outputs": [
    {
     "name": "stdout",
     "output_type": "stream",
     "text": [
      "h\n"
     ]
    }
   ],
   "source": [
    "print(\"h\")"
   ]
  },
  {
   "cell_type": "code",
   "execution_count": 109,
   "id": "e20726b5",
   "metadata": {},
   "outputs": [
    {
     "name": "stdout",
     "output_type": "stream",
     "text": [
      "\n",
      "*\n",
      "**\n",
      "***\n",
      "****\n",
      "*****\n"
     ]
    }
   ],
   "source": [
    "#star printing\n",
    "def f(n):\n",
    "    for i in range(n+1):\n",
    "        while i>0:\n",
    "            print(\"*\",end=\"\")\n",
    "            i-=1\n",
    "        print()\n",
    "f(5)\n",
    "        \n",
    "    "
   ]
  },
  {
   "cell_type": "code",
   "execution_count": 117,
   "id": "08d2e2e8",
   "metadata": {},
   "outputs": [
    {
     "name": "stdout",
     "output_type": "stream",
     "text": [
      "     \n",
      "     *\n",
      "    * *\n",
      "   * * *\n",
      "  * * * *\n",
      " * * * * *\n"
     ]
    }
   ],
   "source": [
    "#star printing of equilateral triangle\n",
    "def fun(n):\n",
    "    for i in range(n+1):\n",
    "        j=k=i\n",
    "        while k<n:\n",
    "            print(\" \",end=\"\")\n",
    "            k+=1\n",
    "        while j>0:\n",
    "            print(\" *\",end=\"\")\n",
    "            j-=1\n",
    "        print()\n",
    "        \n",
    "fun(5)"
   ]
  },
  {
   "cell_type": "code",
   "execution_count": 120,
   "id": "39de7468",
   "metadata": {},
   "outputs": [
    {
     "name": "stdout",
     "output_type": "stream",
     "text": [
      "     \n",
      "     *\n",
      "    * *\n",
      "   * * *\n",
      "  * * * *\n",
      " * * * * *\n",
      "  * * * *\n",
      "   * * *\n",
      "    * *\n",
      "     *\n"
     ]
    }
   ],
   "source": [
    "#printing daimond\n",
    "def fun(n):\n",
    "    for i in range(n+1):\n",
    "        j=k=i\n",
    "        while k<n:\n",
    "            print(\" \",end=\"\")\n",
    "            k+=1\n",
    "        while j>0:\n",
    "            print(\" *\",end=\"\")\n",
    "            j-=1\n",
    "        print()\n",
    "    for i in range(n-1,0,-1):\n",
    "        j=k=i\n",
    "        while k<n:\n",
    "            print(\" \",end=\"\")\n",
    "            k+=1\n",
    "        while j>0:\n",
    "            print(\" *\",end=\"\")\n",
    "            j-=1\n",
    "        print()\n",
    "        \n",
    "fun(5)"
   ]
  },
  {
   "cell_type": "code",
   "execution_count": 130,
   "id": "6b450f03",
   "metadata": {},
   "outputs": [
    {
     "name": "stdout",
     "output_type": "stream",
     "text": [
      "12321\n"
     ]
    },
    {
     "data": {
      "text/plain": [
       "'palindrome'"
      ]
     },
     "execution_count": 130,
     "metadata": {},
     "output_type": "execute_result"
    }
   ],
   "source": [
    "#palindrome check for string\n",
    "def fun(n):\n",
    "    j=\"\"\n",
    "    for i in range(len(n)-1,-1,-1):\n",
    "        j=j+n[i]\n",
    "    if j == n:\n",
    "        return \"palindrome\"\n",
    "    else:\n",
    "        return \"not palindrome\"\n",
    "fun(\"12321\")\n",
    "        "
   ]
  },
  {
   "cell_type": "code",
   "execution_count": 140,
   "id": "9269ba3c",
   "metadata": {},
   "outputs": [
    {
     "name": "stdout",
     "output_type": "stream",
     "text": [
      "10\n"
     ]
    }
   ],
   "source": [
    "l=[1,2,3,4]\n",
    "j=0\n",
    "for i in l:\n",
    "    j=j+i\n",
    "print(j)"
   ]
  },
  {
   "cell_type": "code",
   "execution_count": 141,
   "id": "5287ac45",
   "metadata": {},
   "outputs": [
    {
     "data": {
      "text/plain": [
       "10"
      ]
     },
     "execution_count": 141,
     "metadata": {},
     "output_type": "execute_result"
    }
   ],
   "source": [
    "sum(l)"
   ]
  },
  {
   "cell_type": "code",
   "execution_count": 144,
   "id": "8888d629",
   "metadata": {},
   "outputs": [
    {
     "name": "stdout",
     "output_type": "stream",
     "text": [
      "15\n"
     ]
    }
   ],
   "source": [
    "#sum of natural numbers\n",
    "def nat(n):\n",
    "    m=((n**2)+n)//2\n",
    "    print(m)\n",
    "nat(5)"
   ]
  },
  {
   "cell_type": "code",
   "execution_count": 152,
   "id": "db5562da",
   "metadata": {},
   "outputs": [
    {
     "data": {
      "text/plain": [
       "5"
      ]
     },
     "execution_count": 152,
     "metadata": {},
     "output_type": "execute_result"
    }
   ],
   "source": [
    "#FIND lcm\n",
    "def lcm(m,n):\n",
    "    if m>n:\n",
    "        greater=m\n",
    "    else:\n",
    "        greater=n\n",
    "    while True:\n",
    "        if (greater%m==0) and (greater%n==0):\n",
    "            return greater\n",
    "    \n",
    "        greater+=1\n",
    "lcm(5,5)\n",
    "\n",
    "    "
   ]
  },
  {
   "cell_type": "code",
   "execution_count": 153,
   "id": "8fa98ece",
   "metadata": {},
   "outputs": [
    {
     "data": {
      "text/plain": [
       "1"
      ]
     },
     "execution_count": 153,
     "metadata": {},
     "output_type": "execute_result"
    }
   ],
   "source": [
    "#HCF\n",
    "def hcf(m,n):\n",
    "    if m>n:\n",
    "        g=m\n",
    "    else:\n",
    "        g=n\n",
    "    while True:\n",
    "        if(m%g==0) and (n%g==0):\n",
    "            return g\n",
    "        g-=1\n",
    "hcf(5,4)\n",
    "        "
   ]
  },
  {
   "cell_type": "code",
   "execution_count": 156,
   "id": "1852796f",
   "metadata": {},
   "outputs": [
    {
     "name": "stdout",
     "output_type": "stream",
     "text": [
      "6\n",
      "10\n",
      "30\n"
     ]
    }
   ],
   "source": [
    "#LCM using hcf or gcd\n",
    "#HCF\n",
    "def hcf(m,n):\n",
    "    if m>n:\n",
    "        g=m\n",
    "    else:\n",
    "        g=n\n",
    "    while True:\n",
    "        if(m%g==0) and (n%g==0):\n",
    "            return g\n",
    "        g-=1\n",
    "m=int(input())\n",
    "n=int(input())\n",
    "b=hcf(m,n)\n",
    "lcm=(m*n)//b\n",
    "print(lcm)\n"
   ]
  },
  {
   "cell_type": "code",
   "execution_count": 164,
   "id": "a52362c0",
   "metadata": {},
   "outputs": [
    {
     "name": "stdout",
     "output_type": "stream",
     "text": [
      "0\n",
      "1\n"
     ]
    }
   ],
   "source": [
    "#factorial\n",
    "def  fact(n):\n",
    "    m=1\n",
    "    for i in range(1,n):\n",
    "        m=m*n\n",
    "    print(m)\n",
    "fact(int(input()))"
   ]
  },
  {
   "cell_type": "code",
   "execution_count": 165,
   "id": "8c3f0841",
   "metadata": {},
   "outputs": [
    {
     "name": "stdout",
     "output_type": "stream",
     "text": [
      "4\n",
      "5\n",
      "5 4\n"
     ]
    }
   ],
   "source": [
    "#swapping without using third variable\n",
    "def swap(m,n):\n",
    "    m,n=n,m\n",
    "    print(m,n)\n",
    "swap(int(input()),int(input()))"
   ]
  },
  {
   "cell_type": "code",
   "execution_count": 167,
   "id": "ad9e8843",
   "metadata": {},
   "outputs": [
    {
     "data": {
      "text/plain": [
       "6"
      ]
     },
     "execution_count": 167,
     "metadata": {},
     "output_type": "execute_result"
    }
   ],
   "source": [
    "#counting number of digits\n",
    "def fun(n):\n",
    "    c=0\n",
    "    while n>0:\n",
    "        n=n//10\n",
    "        c+=1\n",
    "    return c\n",
    "fun(100202)\n",
    "    "
   ]
  },
  {
   "cell_type": "code",
   "execution_count": 172,
   "id": "f9d5cae4",
   "metadata": {},
   "outputs": [
    {
     "data": {
      "text/plain": [
       "2"
      ]
     },
     "execution_count": 172,
     "metadata": {},
     "output_type": "execute_result"
    }
   ],
   "source": [
    "#counting ending zeroes\n",
    "def fun(n):\n",
    "    c=d=0\n",
    "    while n>0:\n",
    "        if n%10==0:\n",
    "            c+=1\n",
    "        else:\n",
    "            break\n",
    "        n=n//10\n",
    "    return c\n",
    "    \n",
    "fun(200)"
   ]
  },
  {
   "cell_type": "code",
   "execution_count": 204,
   "id": "412a9622",
   "metadata": {},
   "outputs": [
    {
     "data": {
      "text/plain": [
       "3"
      ]
     },
     "execution_count": 204,
     "metadata": {},
     "output_type": "execute_result"
    }
   ],
   "source": [
    "#binary search\n",
    "def bint(n1,p):\n",
    "    l=0\n",
    "    r=len(n1)\n",
    "    while l<r:\n",
    "        mid=(l+r)//2\n",
    "        if n1[mid]==p:\n",
    "            return mid\n",
    "        elif n1[mid]<p:\n",
    "            l=mid+1\n",
    "        elif n1[mid]>p:\n",
    "            r=mid-1\n",
    "    return False\n",
    "bint([1,2,2,2,3,4],2)"
   ]
  },
  {
   "cell_type": "code",
   "execution_count": 213,
   "id": "c92e254c",
   "metadata": {},
   "outputs": [
    {
     "data": {
      "text/plain": [
       "[4, 5, 235, 345, 523, 532, 532, 532, 532]"
      ]
     },
     "execution_count": 213,
     "metadata": {},
     "output_type": "execute_result"
    }
   ],
   "source": [
    "#buble sort\n",
    "def bub(n):\n",
    "    for i in range(0,len(n)-1):\n",
    "        for j in range(0,len(n)-1-i):\n",
    "            if n[j]>n[j+1]:\n",
    "                n[j],n[j+1]=n[j+1],n[j]\n",
    "    return n\n",
    "bub([345,4,532,523,532,532,532,5,235])"
   ]
  },
  {
   "cell_type": "code",
   "execution_count": 252,
   "id": "67d5667f",
   "metadata": {},
   "outputs": [
    {
     "data": {
      "text/plain": [
       "[1, 2, 3, 4, 5, 6, 8]"
      ]
     },
     "execution_count": 252,
     "metadata": {},
     "output_type": "execute_result"
    }
   ],
   "source": [
    "#selection sort\n",
    "def fun(n):\n",
    "    for i in range(0,len(n)-1):\n",
    "        mid=i\n",
    "        for j in range(i,len(n)):\n",
    "                if n[mid]>n[j]:\n",
    "                    mid=j\n",
    "                n[i],n[mid]=n[mid],n[i]\n",
    "    return n\n",
    "fun([4,3,5,6,2,8,1])"
   ]
  },
  {
   "cell_type": "code",
   "execution_count": 254,
   "id": "569226b3",
   "metadata": {},
   "outputs": [
    {
     "data": {
      "text/plain": [
       "[1, 2, 3, 5, 8, 9]"
      ]
     },
     "execution_count": 254,
     "metadata": {},
     "output_type": "execute_result"
    }
   ],
   "source": [
    "#insertion sort\n",
    "def fun(n):\n",
    "    for i in range(0,len(n)):\n",
    "        key=n[i]\n",
    "        j=i-1\n",
    "        while j>=0 and key<n[j]:\n",
    "            n[j+1]=n[j]\n",
    "            j-=1\n",
    "        n[j+1]=key\n",
    "    return n\n",
    "fun([9,2,5,8,3,1])"
   ]
  },
  {
   "cell_type": "code",
   "execution_count": 264,
   "id": "c1c4b76c",
   "metadata": {},
   "outputs": [
    {
     "name": "stdout",
     "output_type": "stream",
     "text": [
      "[1, 1, 1, 5.6]\n"
     ]
    }
   ],
   "source": [
    "#merge sort\n",
    "def fun(n):\n",
    "    if len(n)>1:\n",
    "        mid=len(n)//2\n",
    "        leftlist=n[:mid]\n",
    "        rightlist=n[mid:]\n",
    "        fun(leftlist)\n",
    "        fun(rightlist)\n",
    "        \n",
    "        i=j=k=0\n",
    "        while i<len(leftlist) and j<len(rightlist):\n",
    "            if leftlist[i]<rightlist[j]:\n",
    "                n[k]=leftlist[i]\n",
    "                i+=1\n",
    "                k+=1\n",
    "            else:\n",
    "                n[k]=rightlist[j]\n",
    "                j+=1\n",
    "                k+=1\n",
    "        while i<len(leftlist):\n",
    "            n[k]=leftlist[i]\n",
    "            i+=1\n",
    "            k+=1\n",
    "        while j<len(rightlist):\n",
    "            n[k]=rightlist[j]\n",
    "            j+=1\n",
    "            k+=1\n",
    "    \n",
    "l=[1,1,5.6,1]\n",
    "fun(l)\n",
    "print(l)\n",
    "            \n",
    "\n",
    "            "
   ]
  },
  {
   "cell_type": "code",
   "execution_count": null,
   "id": "ef74b6d1",
   "metadata": {},
   "outputs": [],
   "source": []
  },
  {
   "cell_type": "code",
   "execution_count": null,
   "id": "f2776aeb",
   "metadata": {},
   "outputs": [],
   "source": []
  }
 ],
 "metadata": {
  "kernelspec": {
   "display_name": "Python 3 (ipykernel)",
   "language": "python",
   "name": "python3"
  },
  "language_info": {
   "codemirror_mode": {
    "name": "ipython",
    "version": 3
   },
   "file_extension": ".py",
   "mimetype": "text/x-python",
   "name": "python",
   "nbconvert_exporter": "python",
   "pygments_lexer": "ipython3",
   "version": "3.8.8"
  }
 },
 "nbformat": 4,
 "nbformat_minor": 5
}

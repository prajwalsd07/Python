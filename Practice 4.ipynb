{
 "cells": [
  {
   "cell_type": "code",
   "execution_count": 2,
   "id": "39182f5a",
   "metadata": {},
   "outputs": [
    {
     "name": "stdout",
     "output_type": "stream",
     "text": [
      "1\n",
      "2\n",
      "3\n",
      "4\n",
      "5\n",
      "[1, 2, 3, 4, 5]\n",
      "1\n",
      "2\n",
      "3\n",
      "4\n",
      "5\n"
     ]
    }
   ],
   "source": [
    "#queue\n",
    "n=5\n",
    "l=[]\n",
    "for i in range(n):\n",
    "    e=int(input())\n",
    "    l.append(e)\n",
    "print(l)\n",
    "for j in range(len(l)):\n",
    "    b=l.pop(0)\n",
    "    print(b)"
   ]
  },
  {
   "cell_type": "markdown",
   "id": "2d845d74",
   "metadata": {},
   "source": [
    "###### s=\"i am waala\"\n",
    "a=s.split(\" \")\n",
    "z=\" \"\n",
    "for i in range(len(a)):\n",
    "    #print(a[i])\n",
    "    if len(a[i])>=2:\n",
    "        l=list(a[i])\n",
    "        z+=\"\".join(l[::-1])\n",
    "    elif len(a[i])<2:\n",
    "        z+=a[i]\n",
    "print(z)\n",
    "    "
   ]
  },
  {
   "cell_type": "code",
   "execution_count": 90,
   "id": "6e887004",
   "metadata": {},
   "outputs": [
    {
     "name": "stdout",
     "output_type": "stream",
     "text": [
      "true\n"
     ]
    }
   ],
   "source": [
    "#palindrome\n",
    "def fun(l):\n",
    "    k=\"\"\n",
    "    for i in range(len(l)-1,-1,-1):\n",
    "        k=k+l[i]\n",
    "    if k==l:\n",
    "        print(\"true\")\n",
    "    else:\n",
    "        print(\"false\")\n",
    "fun(\"madam\")\n",
    "        \n",
    "        "
   ]
  },
  {
   "cell_type": "code",
   "execution_count": 147,
   "id": "c98d0b74",
   "metadata": {},
   "outputs": [
    {
     "name": "stdout",
     "output_type": "stream",
     "text": [
      "*  *  *  *  *  *  *  *  *  *  \n",
      "*  *           *        *  *  \n",
      "*     *        *     *     *  \n",
      "*        *     *  *        *  \n",
      "*           *  *           *  \n",
      "*  *  *  *  *  *  *  *  *  *  \n",
      "*        *     *  *        *  \n",
      "*     *        *     *     *  \n",
      "*  *           *        *  *  \n",
      "*  *  *  *  *  *  *  *  *  *  \n"
     ]
    }
   ],
   "source": [
    "#hallow square\n",
    "def fun1(n):\n",
    "    for i in range(n):\n",
    "        #if i == 0 or i == n:\n",
    "            for j in range(n):\n",
    "                if i == 0 or i == n-1 or j==0 or j==n-1 or i==j or i==n-j-1 or i==n//2 or j == n//2:\n",
    "                    print(\"* \",end=\" \")\n",
    "                else:\n",
    "                    print(\" \",end=\"  \")\n",
    "            print()\n",
    "fun1(10)"
   ]
  },
  {
   "cell_type": "code",
   "execution_count": 148,
   "id": "d294ec9a",
   "metadata": {},
   "outputs": [
    {
     "name": "stdout",
     "output_type": "stream",
     "text": [
      "1 \n",
      "2 2 \n",
      "3 3 3 \n",
      "4 4 4 4 \n",
      "5 5 5 5 5 \n"
     ]
    }
   ],
   "source": [
    "#printing pattern\n",
    "def fun(n):\n",
    "    j=1\n",
    "    for i in range(1,n+1):\n",
    "        while i > 0:\n",
    "            print(j,end=\" \")\n",
    "            #j+=1\n",
    "            i=i-1\n",
    "        j+=1\n",
    "        print()\n",
    "fun(5)        "
   ]
  },
  {
   "cell_type": "code",
   "execution_count": 156,
   "id": "af6305fc",
   "metadata": {},
   "outputs": [
    {
     "name": "stdout",
     "output_type": "stream",
     "text": [
      "0\n",
      "1\n",
      "3\n",
      "6\n",
      "10\n",
      "15\n",
      "21\n"
     ]
    }
   ],
   "source": [
    "#fibinocci series\n",
    "def fum(n):\n",
    "    j=0\n",
    "    for i in range(n):\n",
    "        j=\n",
    "        print(j)\n",
    "fum(7)"
   ]
  },
  {
   "cell_type": "code",
   "execution_count": 255,
   "id": "06a3d579",
   "metadata": {},
   "outputs": [
    {
     "name": "stdout",
     "output_type": "stream",
     "text": [
      "gnirts"
     ]
    }
   ],
   "source": [
    "def fun(l):\n",
    "    l1=\"\"\n",
    "    for i in range(len(l)-1,-1,-1):\n",
    "        print(l[i],end=\"\")\n",
    "fun(\"string\")"
   ]
  },
  {
   "cell_type": "code",
   "execution_count": 195,
   "id": "5e3f6c9e",
   "metadata": {},
   "outputs": [
    {
     "name": "stdout",
     "output_type": "stream",
     "text": [
      "1, 2, 3, 5, 7, 11, 13, 17, 19, 23, 29, 31, 37, 41, 43, 47, 53, 59, 61, 67, 71, 73, 79, 83, 89, 97, "
     ]
    }
   ],
   "source": [
    "#prime number or not\n",
    "def prim(n,m):\n",
    "    flag=0\n",
    "    for j in range(n,m):   \n",
    "        flag=0\n",
    "        for i in range(2,j):\n",
    "            if j%i==0:\n",
    "                flag=1\n",
    "                break\n",
    "        if flag==0:\n",
    "            print(j,end=\", \")\n",
    "        \n",
    "prim(1,100)\n",
    "        "
   ]
  },
  {
   "cell_type": "code",
   "execution_count": 222,
   "id": "455778b5",
   "metadata": {},
   "outputs": [
    {
     "name": "stdout",
     "output_type": "stream",
     "text": [
      "3\n"
     ]
    }
   ],
   "source": [
    "def bs(li,k):\n",
    "    l=0\n",
    "    mid=0\n",
    "    r=len(li)-1\n",
    "    while(l<=r):\n",
    "        mid=(l+r)//2\n",
    "        if li[mid]==k:\n",
    "            return mid\n",
    "        elif li[mid]>k:\n",
    "            r=mid-1\n",
    "        else:\n",
    "            l=mid+1\n",
    "    return False\n",
    "l=[1,2,3,4,5]\n",
    "print(bs(l,4))"
   ]
  },
  {
   "cell_type": "code",
   "execution_count": 227,
   "id": "3b79c0db",
   "metadata": {},
   "outputs": [
    {
     "data": {
      "text/plain": [
       "2"
      ]
     },
     "execution_count": 227,
     "metadata": {},
     "output_type": "execute_result"
    }
   ],
   "source": [
    "def bs1(l1,n):\n",
    "    l=0\n",
    "    r=len(l1)-1\n",
    "    while l<=r:\n",
    "        mid=(l+r)//2\n",
    "        if l1[mid]==n:\n",
    "            return mid\n",
    "        elif n>li[mid]:\n",
    "            l=mid+1\n",
    "        else:\n",
    "            r=mid-1\n",
    "    return False \n",
    "bs1([1,2,4,8,9],4)\n"
   ]
  },
  {
   "cell_type": "code",
   "execution_count": 243,
   "id": "857ef0df",
   "metadata": {},
   "outputs": [
    {
     "data": {
      "text/plain": [
       "3"
      ]
     },
     "execution_count": 243,
     "metadata": {},
     "output_type": "execute_result"
    }
   ],
   "source": [
    "def square(n):\n",
    "    for i in range(1,(n//2)+1):\n",
    "        if (n/i)==i:\n",
    "           return i\n",
    "    return \"NOt a perfect square\"\n",
    "        \n",
    "square(9)"
   ]
  },
  {
   "cell_type": "code",
   "execution_count": 49,
   "id": "5644023d",
   "metadata": {},
   "outputs": [
    {
     "name": "stdout",
     "output_type": "stream",
     "text": [
      "4 6\n"
     ]
    }
   ],
   "source": [
    " def twoSum(l,c):\n",
    "    for i in range(len(l)):\n",
    "        for j in range(i,len(l)):\n",
    "            if l[i]+l[j]==c and i!=j:\n",
    "                print(l[i],l[j])\n",
    "            \n",
    "b=[1,2,3,4,5,6]\n",
    "c=10\n",
    "twoSum(b,c)"
   ]
  },
  {
   "cell_type": "code",
   "execution_count": 46,
   "id": "3c5bbc3f",
   "metadata": {},
   "outputs": [
    {
     "name": "stdout",
     "output_type": "stream",
     "text": [
      "4 6\n"
     ]
    }
   ],
   "source": [
    "def fun(l,t):\n",
    "    for i in range(len(l)):\n",
    "        for j in range(i,len(l)):\n",
    "            if l[i]+l[j]==t and i!=j:\n",
    "                print(l[i],l[j])\n",
    "l=[1,2,3,4,5,6]\n",
    "t=10\n",
    "fun(l,t)"
   ]
  },
  {
   "cell_type": "code",
   "execution_count": 34,
   "id": "5b82c916",
   "metadata": {},
   "outputs": [
    {
     "name": "stdout",
     "output_type": "stream",
     "text": [
      "3 4\n",
      "2 5\n",
      "1 6\n"
     ]
    }
   ],
   "source": [
    "def fun(l,t):\n",
    "    d={}\n",
    "    for i in range(len(l)):\n",
    "        if l[i] in d:\n",
    "            print(l[d[l[i]]],l[i])\n",
    "        else:\n",
    "            d[t-l[i]]=i\n",
    "l=[1,2,3,4,5,6]\n",
    "t=7\n",
    "fun(l,t)\n",
    "        "
   ]
  },
  {
   "cell_type": "code",
   "execution_count": 44,
   "id": "facaed1a",
   "metadata": {},
   "outputs": [
    {
     "name": "stdout",
     "output_type": "stream",
     "text": [
      "4 6\n"
     ]
    }
   ],
   "source": [
    "def fun(l,t):\n",
    "    for i in range(len(l)):\n",
    "        for j in range(len(l)):\n",
    "            if l[i]+l[j]==t and i!=j and i<j:\n",
    "                print(l[i],l[j])\n",
    "l=[1,2,3,4,5,6]\n",
    "t=10\n",
    "(fun(l,t))"
   ]
  },
  {
   "cell_type": "code",
   "execution_count": null,
   "id": "d499cf1a",
   "metadata": {},
   "outputs": [],
   "source": []
  }
 ],
 "metadata": {
  "kernelspec": {
   "display_name": "Python 3",
   "language": "python",
   "name": "python3"
  },
  "language_info": {
   "codemirror_mode": {
    "name": "ipython",
    "version": 3
   },
   "file_extension": ".py",
   "mimetype": "text/x-python",
   "name": "python",
   "nbconvert_exporter": "python",
   "pygments_lexer": "ipython3",
   "version": "3.8.8"
  }
 },
 "nbformat": 4,
 "nbformat_minor": 5
}

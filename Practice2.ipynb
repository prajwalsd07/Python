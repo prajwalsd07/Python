{
 "cells": [
  {
   "cell_type": "code",
   "execution_count": 35,
   "id": "e8b30665",
   "metadata": {},
   "outputs": [
    {
     "name": "stdout",
     "output_type": "stream",
     "text": [
      "3\n"
     ]
    }
   ],
   "source": [
    "def zeros(num1):\n",
    "    a=[]\n",
    "    for i in num1:\n",
    "        a.append(i)\n",
    "    a.reverse()\n",
    "   # print(a)\n",
    "    k=0\n",
    "    for l in a:\n",
    "      #  print(l)\n",
    "        if l==\"0\":\n",
    "            k=k+1\n",
    "           # print(k)\n",
    "        else:\n",
    "            break\n",
    "    return(k)\n",
    "#w=str(input()            \n",
    "q=zeros(\"100023000\")\n",
    "print(q)"
   ]
  },
  {
   "cell_type": "code",
   "execution_count": 56,
   "id": "c63c3fa4",
   "metadata": {},
   "outputs": [
    {
     "name": "stdout",
     "output_type": "stream",
     "text": [
      "123456\n",
      "no zeros\n"
     ]
    }
   ],
   "source": [
    "def zero(n):\n",
    "    r=n%10\n",
    "    j=0\n",
    "    while(r==0):\n",
    "        r=n%10\n",
    "        n=n/10\n",
    "        j=j+1\n",
    "    j=j-1\n",
    "    return(j)\n",
    "d=int(input())\n",
    "r=zero(d)\n",
    "if r==-1:\n",
    "    print(\"no zeros\")\n",
    "else:\n",
    "    print(r)    "
   ]
  },
  {
   "cell_type": "code",
   "execution_count": 61,
   "id": "7e0c83c5",
   "metadata": {},
   "outputs": [
    {
     "name": "stdout",
     "output_type": "stream",
     "text": [
      "12300100\n",
      "2\n"
     ]
    }
   ],
   "source": [
    "def count(n):\n",
    "    c=0\n",
    "    while n>0:\n",
    "        r=n%10\n",
    "        if r==0:\n",
    "            c+=1\n",
    "        else:\n",
    "            break\n",
    "        n=n//10\n",
    "    return c\n",
    "n=int(input())\n",
    "print(count(n))"
   ]
  },
  {
   "cell_type": "code",
   "execution_count": 78,
   "id": "7960bdc8",
   "metadata": {},
   "outputs": [
    {
     "name": "stdout",
     "output_type": "stream",
     "text": [
      "False\n"
     ]
    }
   ],
   "source": [
    "def conseq(n):\n",
    "    n.sort()\n",
    "    for j in range(len(n)-1):\n",
    "        if n[j+1]==n[j]+1:\n",
    "            k=True\n",
    "        else:\n",
    "            k=False\n",
    "    return(k)\n",
    "print(conseq([1,3,2]))\n",
    "        \n",
    "            \n",
    "        \n",
    "    "
   ]
  },
  {
   "cell_type": "code",
   "execution_count": 91,
   "id": "45d39f5f",
   "metadata": {},
   "outputs": [
    {
     "name": "stdout",
     "output_type": "stream",
     "text": [
      "100\n",
      "93326215443944152681699238856266700490715968264381621468592963895217599993229915608941463976156518286253697920827223758251185210916864000000000000000000000000\n",
      "1\n"
     ]
    }
   ],
   "source": [
    "def zero(m):\n",
    "    n=1\n",
    "    for i in range(0,m):\n",
    "        n=n*m\n",
    "        m=m-1\n",
    "    print(n)\n",
    "    r=n%10\n",
    "    j=0\n",
    "    while(r==0):\n",
    "        r=n%10\n",
    "        n=n/10\n",
    "        j=j+1\n",
    "    j=j-1\n",
    "    return(j)\n",
    "d=int(input())\n",
    "r=zero(d)\n",
    "if r==-1:\n",
    "    print(\"no zeros\")\n",
    "else:\n",
    "    print(r) "
   ]
  },
  {
   "cell_type": "code",
   "execution_count": 94,
   "id": "105f156a",
   "metadata": {},
   "outputs": [
    {
     "name": "stdout",
     "output_type": "stream",
     "text": [
      "4\n"
     ]
    },
    {
     "ename": "TypeError",
     "evalue": "'str' object cannot be interpreted as an integer",
     "output_type": "error",
     "traceback": [
      "\u001b[1;31m---------------------------------------------------------------------------\u001b[0m",
      "\u001b[1;31mTypeError\u001b[0m                                 Traceback (most recent call last)",
      "\u001b[1;32m<ipython-input-94-b3b17b453708>\u001b[0m in \u001b[0;36m<module>\u001b[1;34m\u001b[0m\n\u001b[0;32m     12\u001b[0m         \u001b[0mprint\u001b[0m\u001b[1;33m(\u001b[0m\u001b[0mk\u001b[0m\u001b[1;33m)\u001b[0m\u001b[1;33m\u001b[0m\u001b[1;33m\u001b[0m\u001b[0m\n\u001b[0;32m     13\u001b[0m \u001b[0my\u001b[0m\u001b[1;33m=\u001b[0m\u001b[0minput\u001b[0m\u001b[1;33m(\u001b[0m\u001b[1;33m)\u001b[0m\u001b[1;33m\u001b[0m\u001b[1;33m\u001b[0m\u001b[0m\n\u001b[1;32m---> 14\u001b[1;33m \u001b[0mzero\u001b[0m\u001b[1;33m(\u001b[0m\u001b[0my\u001b[0m\u001b[1;33m)\u001b[0m\u001b[1;33m\u001b[0m\u001b[1;33m\u001b[0m\u001b[0m\n\u001b[0m",
      "\u001b[1;32m<ipython-input-94-b3b17b453708>\u001b[0m in \u001b[0;36mzero\u001b[1;34m(m)\u001b[0m\n\u001b[0;32m      2\u001b[0m     \u001b[0mn\u001b[0m\u001b[1;33m=\u001b[0m\u001b[1;36m1\u001b[0m\u001b[1;33m\u001b[0m\u001b[1;33m\u001b[0m\u001b[0m\n\u001b[0;32m      3\u001b[0m     \u001b[0mk\u001b[0m\u001b[1;33m=\u001b[0m\u001b[1;36m0\u001b[0m\u001b[1;33m\u001b[0m\u001b[1;33m\u001b[0m\u001b[0m\n\u001b[1;32m----> 4\u001b[1;33m     \u001b[1;32mfor\u001b[0m \u001b[0mi\u001b[0m \u001b[1;32min\u001b[0m \u001b[0mrange\u001b[0m\u001b[1;33m(\u001b[0m\u001b[1;36m0\u001b[0m\u001b[1;33m,\u001b[0m\u001b[0mm\u001b[0m\u001b[1;33m)\u001b[0m\u001b[1;33m:\u001b[0m\u001b[1;33m\u001b[0m\u001b[1;33m\u001b[0m\u001b[0m\n\u001b[0m\u001b[0;32m      5\u001b[0m         \u001b[1;32mif\u001b[0m \u001b[0mm\u001b[0m\u001b[1;33m==\u001b[0m\u001b[1;34m\"10\"\u001b[0m\u001b[1;33m:\u001b[0m\u001b[1;33m\u001b[0m\u001b[1;33m\u001b[0m\u001b[0m\n\u001b[0;32m      6\u001b[0m             \u001b[0mk\u001b[0m\u001b[1;33m=\u001b[0m\u001b[0mk\u001b[0m\u001b[1;33m+\u001b[0m\u001b[1;36m1\u001b[0m\u001b[1;33m\u001b[0m\u001b[1;33m\u001b[0m\u001b[0m\n",
      "\u001b[1;31mTypeError\u001b[0m: 'str' object cannot be interpreted as an integer"
     ]
    }
   ],
   "source": [
    "def zero(m):\n",
    "    n=1\n",
    "    k=0\n",
    "    for i in range(0,m):\n",
    "        if m==\"10\":\n",
    "            k=k+1\n",
    "        if m==\"5\":\n",
    "            k=k+1\n",
    "        n=n*m\n",
    "        m=m-1\n",
    "        print(n)\n",
    "        print(k)\n",
    "y=input()\n",
    "zero(y)"
   ]
  },
  {
   "cell_type": "code",
   "execution_count": 95,
   "id": "4d34fab6",
   "metadata": {},
   "outputs": [
    {
     "name": "stdout",
     "output_type": "stream",
     "text": [
      "120\n"
     ]
    }
   ],
   "source": [
    "def zero(m):\n",
    "    n=1\n",
    "    for i in range(0,m):\n",
    "        n=n*m\n",
    "        m=m-1\n",
    "    print(n)\n",
    "zero(5)"
   ]
  },
  {
   "cell_type": "code",
   "execution_count": 111,
   "id": "71408c07",
   "metadata": {},
   "outputs": [
    {
     "name": "stdout",
     "output_type": "stream",
     "text": [
      "0\n",
      "4\n",
      "8\n",
      "12\n"
     ]
    }
   ],
   "source": [
    "def cubes(n):\n",
    "    for i in range(0,n):\n",
    "        yield i*n\n",
    "for x in cubes(4):\n",
    "    print(x)"
   ]
  },
  {
   "cell_type": "code",
   "execution_count": 21,
   "id": "217105fe",
   "metadata": {},
   "outputs": [
    {
     "ename": "IndexError",
     "evalue": "pop index out of range",
     "output_type": "error",
     "traceback": [
      "\u001b[1;31m---------------------------------------------------------------------------\u001b[0m",
      "\u001b[1;31mIndexError\u001b[0m                                Traceback (most recent call last)",
      "\u001b[1;32m<ipython-input-21-8293f44dbb5b>\u001b[0m in \u001b[0;36m<module>\u001b[1;34m\u001b[0m\n\u001b[0;32m      5\u001b[0m                 \u001b[1;32mif\u001b[0m \u001b[0ml1\u001b[0m\u001b[1;33m.\u001b[0m\u001b[0mpop\u001b[0m\u001b[1;33m(\u001b[0m\u001b[1;36m4\u001b[0m\u001b[1;33m)\u001b[0m\u001b[1;33m==\u001b[0m\u001b[1;32mTrue\u001b[0m\u001b[1;33m:\u001b[0m\u001b[1;33m\u001b[0m\u001b[1;33m\u001b[0m\u001b[0m\n\u001b[0;32m      6\u001b[0m                     \u001b[0mprint\u001b[0m\u001b[1;33m(\u001b[0m\u001b[0ml1\u001b[0m\u001b[1;33m)\u001b[0m\u001b[1;33m\u001b[0m\u001b[1;33m\u001b[0m\u001b[0m\n\u001b[1;32m----> 7\u001b[1;33m \u001b[0mcat\u001b[0m\u001b[1;33m(\u001b[0m\u001b[1;33m[\u001b[0m\u001b[1;36m2\u001b[0m\u001b[1;33m,\u001b[0m\u001b[1;36m3\u001b[0m\u001b[1;33m,\u001b[0m\u001b[1;36m4\u001b[0m\u001b[1;33m,\u001b[0m\u001b[1;36m5\u001b[0m\u001b[1;33m,\u001b[0m\u001b[1;36m6\u001b[0m\u001b[1;33m,\u001b[0m\u001b[1;36m7\u001b[0m\u001b[1;33m,\u001b[0m\u001b[1;36m8\u001b[0m\u001b[1;33m,\u001b[0m\u001b[1;36m9\u001b[0m\u001b[1;33m,\u001b[0m\u001b[1;36m10\u001b[0m\u001b[1;33m]\u001b[0m\u001b[1;33m)\u001b[0m\u001b[1;33m\u001b[0m\u001b[1;33m\u001b[0m\u001b[0m\n\u001b[0m\u001b[0;32m      8\u001b[0m \u001b[1;33m\u001b[0m\u001b[0m\n",
      "\u001b[1;32m<ipython-input-21-8293f44dbb5b>\u001b[0m in \u001b[0;36mcat\u001b[1;34m(l1)\u001b[0m\n\u001b[0;32m      2\u001b[0m \u001b[1;32mdef\u001b[0m \u001b[0mcat\u001b[0m\u001b[1;33m(\u001b[0m\u001b[0ml1\u001b[0m\u001b[1;33m)\u001b[0m\u001b[1;33m:\u001b[0m\u001b[1;33m\u001b[0m\u001b[1;33m\u001b[0m\u001b[0m\n\u001b[0;32m      3\u001b[0m     \u001b[1;32mfor\u001b[0m \u001b[0mj\u001b[0m \u001b[1;32min\u001b[0m \u001b[0mrange\u001b[0m\u001b[1;33m(\u001b[0m\u001b[0mlen\u001b[0m\u001b[1;33m(\u001b[0m\u001b[0ml1\u001b[0m\u001b[1;33m)\u001b[0m\u001b[1;33m)\u001b[0m\u001b[1;33m:\u001b[0m\u001b[1;33m\u001b[0m\u001b[1;33m\u001b[0m\u001b[0m\n\u001b[1;32m----> 4\u001b[1;33m             \u001b[1;32mif\u001b[0m \u001b[0ml1\u001b[0m\u001b[1;33m.\u001b[0m\u001b[0mpop\u001b[0m\u001b[1;33m(\u001b[0m\u001b[1;36m2\u001b[0m\u001b[1;33m)\u001b[0m\u001b[1;33m==\u001b[0m\u001b[1;32mTrue\u001b[0m\u001b[1;33m:\u001b[0m\u001b[1;33m\u001b[0m\u001b[1;33m\u001b[0m\u001b[0m\n\u001b[0m\u001b[0;32m      5\u001b[0m                 \u001b[1;32mif\u001b[0m \u001b[0ml1\u001b[0m\u001b[1;33m.\u001b[0m\u001b[0mpop\u001b[0m\u001b[1;33m(\u001b[0m\u001b[1;36m4\u001b[0m\u001b[1;33m)\u001b[0m\u001b[1;33m==\u001b[0m\u001b[1;32mTrue\u001b[0m\u001b[1;33m:\u001b[0m\u001b[1;33m\u001b[0m\u001b[1;33m\u001b[0m\u001b[0m\n\u001b[0;32m      6\u001b[0m                     \u001b[0mprint\u001b[0m\u001b[1;33m(\u001b[0m\u001b[0ml1\u001b[0m\u001b[1;33m)\u001b[0m\u001b[1;33m\u001b[0m\u001b[1;33m\u001b[0m\u001b[0m\n",
      "\u001b[1;31mIndexError\u001b[0m: pop index out of range"
     ]
    }
   ],
   "source": [
    "#printing the last element\n",
    "def cat(l1):\n",
    "    for j in range(len(l1)):\n",
    "            if l1.pop(2)==True:\n",
    "                if l1.pop(4)==True:\n",
    "        print(l1)\n",
    "cat([2,3,4,5,6,7,8,9,10])\n",
    "    "
   ]
  },
  {
   "cell_type": "code",
   "execution_count": 35,
   "id": "55c02f79",
   "metadata": {},
   "outputs": [
    {
     "name": "stdout",
     "output_type": "stream",
     "text": [
      "1 2 3 4 5\n",
      "3 3\n",
      "6 6\n",
      "10 10\n",
      "15 15\n",
      "15\n"
     ]
    }
   ],
   "source": [
    "# Kadanes\n",
    "def maxi(l1):\n",
    "    a=l1[0]\n",
    "    b=l1[0]\n",
    "    for i in range(1,len(l1)):\n",
    "        a=max((a+l1[i]),l1[i])\n",
    "        b=max(b,a)\n",
    "    print(b)\n",
    "li=list(map(int,input().split(\" \")))\n",
    "maxi(li)\n"
   ]
  },
  {
   "cell_type": "code",
   "execution_count": 74,
   "id": "90fd3511",
   "metadata": {},
   "outputs": [
    {
     "name": "stdout",
     "output_type": "stream",
     "text": [
      "[3, 4, 9]\n",
      "2 4\n"
     ]
    }
   ],
   "source": [
    "l=[1,-2,3,4,9,-5]\n",
    "su_mx=l[0]\n",
    "for i in range(len(l)+1):\n",
    "    for j in range(i):\n",
    "        #print(l[j:i])\n",
    "        su=sum(l[j:i])\n",
    "        if su>su_mx:\n",
    "            su_mx=su\n",
    "            q=l[j:i]\n",
    "print(q)\n",
    "a=(l.index(q[0]))\n",
    "b=(l.index(q[len(q)-1]))\n",
    "print(a,b)       "
   ]
  },
  {
   "cell_type": "code",
   "execution_count": 51,
   "id": "4f6dec22",
   "metadata": {},
   "outputs": [
    {
     "name": "stdout",
     "output_type": "stream",
     "text": [
      "5\n"
     ]
    }
   ],
   "source": [
    "l=[-1,-2,-3,5]\n",
    "cm=l[0]\n",
    "gm=l[0]\n",
    "for i in range(1,len(l)):\n",
    "    cm=max(l[i],cm+l[i])\n",
    "    gm=max(cm,gm)\n",
    "   # print(cm,gm)\n",
    "print(gm)"
   ]
  },
  {
   "cell_type": "code",
   "execution_count": 48,
   "id": "054ed437",
   "metadata": {},
   "outputs": [
    {
     "name": "stdout",
     "output_type": "stream",
     "text": [
      "-1\n"
     ]
    }
   ],
   "source": [
    "print(max(-1,-2))"
   ]
  },
  {
   "cell_type": "code",
   "execution_count": 33,
   "id": "41dc49c7",
   "metadata": {},
   "outputs": [
    {
     "name": "stdout",
     "output_type": "stream",
     "text": [
      "11\n",
      "10\n",
      "9\n"
     ]
    }
   ],
   "source": [
    "#finding products leaving itself\n",
    "def pro(l1):\n",
    "    m=0\n",
    "    for i in range(len(l1)):\n",
    "        for j in range(len(l1)):\n",
    "            if j!=i:\n",
    "                m=m+l1[j]\n",
    "                #print(\"j\",j)\n",
    "                #print(\"m\",m)\n",
    "        print(m)\n",
    "        m=0\n",
    "pro([4,5,6])\n",
    "                \n"
   ]
  },
  {
   "cell_type": "code",
   "execution_count": 65,
   "id": "0ae6fc62",
   "metadata": {},
   "outputs": [
    {
     "name": "stdout",
     "output_type": "stream",
     "text": [
      "444\n",
      "3119\n"
     ]
    }
   ],
   "source": [
    "#nth prime number\n",
    "n=int(input())\n",
    "m=0\n",
    "for num in range(1,100000):\n",
    "    if num > 1:\n",
    "        for i in range(2, num):\n",
    "            if (num % i) == 0:\n",
    "                break\n",
    "        else:\n",
    "            m=m+1\n",
    "            \n",
    "        if m==n:\n",
    "            print(num)\n",
    "            break\n",
    "    if m==n:\n",
    "        \n",
    "        break\n"
   ]
  },
  {
   "cell_type": "code",
   "execution_count": 73,
   "id": "be592c59",
   "metadata": {},
   "outputs": [
    {
     "data": {
      "text/plain": [
       "{11: 'tata', 12: 'Ford', 14: 'toyata'}"
      ]
     },
     "execution_count": 73,
     "metadata": {},
     "output_type": "execute_result"
    }
   ],
   "source": [
    "#sorting keys\n",
    "thisdict = {\n",
    "  12: \"Ford\",\n",
    "  14: \"toyata\",\n",
    "  11: \"tata\"\n",
    "}\n",
    "keys=list(thisdict.keys())\n",
    "keys.sort()\n",
    "dic={}\n",
    "for i in keys:\n",
    "    dic[i]=thisdict[i]\n",
    "dic"
   ]
  },
  {
   "cell_type": "code",
   "execution_count": 87,
   "id": "c31e88f3",
   "metadata": {},
   "outputs": [
    {
     "name": "stdout",
     "output_type": "stream",
     "text": [
      "{20: 1, 23: 3, 19: 5, 27: 6}\n"
     ]
    }
   ],
   "source": [
    "#sorting values\n",
    "dict1={20:1,19:5,23:3,27:6}\n",
    "d1={}\n",
    "l1=[]\n",
    "for i in dict1:    \n",
    "    l1.append([dict1[i],i])\n",
    "l1.sort()\n",
    "\n",
    "for i in range(len(l1)):\n",
    "    d1[l1[i][1]]=l1[i][0]\n",
    "print(d1)\n",
    "    "
   ]
  },
  {
   "cell_type": "code",
   "execution_count": null,
   "id": "4a611576",
   "metadata": {},
   "outputs": [],
   "source": []
  },
  {
   "cell_type": "code",
   "execution_count": null,
   "id": "4bc8d31c",
   "metadata": {},
   "outputs": [],
   "source": []
  }
 ],
 "metadata": {
  "kernelspec": {
   "display_name": "Python 3",
   "language": "python",
   "name": "python3"
  },
  "language_info": {
   "codemirror_mode": {
    "name": "ipython",
    "version": 3
   },
   "file_extension": ".py",
   "mimetype": "text/x-python",
   "name": "python",
   "nbconvert_exporter": "python",
   "pygments_lexer": "ipython3",
   "version": "3.8.8"
  }
 },
 "nbformat": 4,
 "nbformat_minor": 5
}

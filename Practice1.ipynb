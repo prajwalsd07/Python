{
 "cells": [
  {
   "cell_type": "code",
   "execution_count": 31,
   "id": "5d32c1ec",
   "metadata": {},
   "outputs": [
    {
     "name": "stdout",
     "output_type": "stream",
     "text": [
      "[1, 2, 1, 2, 1, 2]\n"
     ]
    }
   ],
   "source": [
    "## allternate printing\n",
    "def mer(l1,l2):\n",
    "    l3=[]\n",
    "    for i in range(len(l1)):\n",
    "        l3.append(l1[i])\n",
    "        l3.append(l2[i])\n",
    "    print(l3)    \n",
    "l1=[1,1,1]\n",
    "l2=[2,2,2]\n",
    "(mer(l1,l2))\n",
    "            \n",
    "    "
   ]
  },
  {
   "cell_type": "code",
   "execution_count": 32,
   "id": "ad88fe02",
   "metadata": {},
   "outputs": [
    {
     "name": "stdout",
     "output_type": "stream",
     "text": [
      "[1, 6, 3, 8]\n"
     ]
    }
   ],
   "source": [
    "## zigzag printing\n",
    "def fun(l1,l2):\n",
    "    l3=[]\n",
    "    for i in range(len(l1)):\n",
    "        if i%2==0:\n",
    "            l3.append(l1[i])\n",
    "        else:\n",
    "            l3.append(l2[i])\n",
    "    print(l3)\n",
    "    \n",
    "l1=[1,2,3,4]\n",
    "l2=[5,6,7,8]\n",
    "fun(l1,l2)"
   ]
  },
  {
   "cell_type": "code",
   "execution_count": 45,
   "id": "44899cc2",
   "metadata": {},
   "outputs": [
    {
     "name": "stdout",
     "output_type": "stream",
     "text": [
      "[1, 4, 8, 9, 6, '0', '0']\n"
     ]
    }
   ],
   "source": [
    "## sending zeroes to end\n",
    "def bob(l1):\n",
    "    y=0\n",
    "    l2=[]\n",
    "    for i in range (len(l1)):\n",
    "        if l1[i]==0:\n",
    "            #x=l1.pop(i)\n",
    "            y=y+1\n",
    "        else:\n",
    "            l2.append(l1[i])\n",
    "    for i in range(y):\n",
    "        l2.append(\"0\")\n",
    "    print(l2)\n",
    "l1=[1,4,0,8,0,9,6]\n",
    "bob(l1)"
   ]
  },
  {
   "cell_type": "code",
   "execution_count": 35,
   "id": "d95c2ab1",
   "metadata": {},
   "outputs": [
    {
     "data": {
      "text/plain": [
       "[2, 4, 5, 6, '0', '0', '0', '0', '0', '0', '0', '0']"
      ]
     },
     "execution_count": 35,
     "metadata": {},
     "output_type": "execute_result"
    }
   ],
   "source": [
    "l1=[2,4,5,6]\n",
    "for i in range(8):\n",
    "        l1.append(\"0\")\n",
    "l1"
   ]
  },
  {
   "cell_type": "code",
   "execution_count": null,
   "id": "2e5defa5",
   "metadata": {},
   "outputs": [],
   "source": []
  }
 ],
 "metadata": {
  "kernelspec": {
   "display_name": "Python 3",
   "language": "python",
   "name": "python3"
  },
  "language_info": {
   "codemirror_mode": {
    "name": "ipython",
    "version": 3
   },
   "file_extension": ".py",
   "mimetype": "text/x-python",
   "name": "python",
   "nbconvert_exporter": "python",
   "pygments_lexer": "ipython3",
   "version": "3.8.8"
  }
 },
 "nbformat": 4,
 "nbformat_minor": 5
}

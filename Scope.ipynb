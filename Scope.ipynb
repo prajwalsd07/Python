{
 "cells": [
  {
   "cell_type": "markdown",
   "metadata": {},
   "source": [
    "# SCOPE\n"
   ]
  },
  {
   "cell_type": "code",
   "execution_count": 2,
   "metadata": {},
   "outputs": [
    {
     "name": "stdout",
     "output_type": "stream",
     "text": [
      "Outer function  300\n",
      "Inner function  300\n"
     ]
    }
   ],
   "source": [
    "def outer_func():\n",
    "    x = 300\n",
    "    print('Outer function ',x)\n",
    "    def inner_fun():\n",
    "        print('Inner function ',x) \n",
    "    \n",
    "    inner_fun()\n",
    "\n",
    "outer_func()"
   ]
  },
  {
   "cell_type": "markdown",
   "metadata": {},
   "source": [
    "### Global Scope\n"
   ]
  },
  {
   "cell_type": "code",
   "execution_count": 3,
   "metadata": {},
   "outputs": [
    {
     "name": "stdout",
     "output_type": "stream",
     "text": [
      "Global :  300\n",
      "my_func :  300\n",
      "my_inner_fun :  300\n"
     ]
    }
   ],
   "source": [
    "x = 300\n",
    "\n",
    "def my_func():\n",
    "    \n",
    "    print('my_func : ',x)\n",
    "    \n",
    "    def my_inner_fun():\n",
    "        print('my_inner_fun : ',x)\n",
    "        \n",
    "    my_inner_fun()\n",
    "    \n",
    "print('Global : ',x)\n",
    "\n",
    "my_func()\n"
   ]
  },
  {
   "cell_type": "code",
   "execution_count": 4,
   "metadata": {},
   "outputs": [
    {
     "name": "stdout",
     "output_type": "stream",
     "text": [
      "local  200\n",
      "GLobal 300\n"
     ]
    }
   ],
   "source": [
    "x = 300\n",
    "\n",
    "def my_fun():\n",
    "    x = 200\n",
    "    print('local ',x)\n",
    "\n",
    "my_fun()\n",
    "print('GLobal',x)"
   ]
  },
  {
   "cell_type": "markdown",
   "metadata": {},
   "source": [
    "### Global Keyword"
   ]
  },
  {
   "cell_type": "code",
   "execution_count": 5,
   "metadata": {},
   "outputs": [
    {
     "name": "stdout",
     "output_type": "stream",
     "text": [
      "local  200\n",
      "GLobal 300\n"
     ]
    }
   ],
   "source": [
    "x1 = 300\n",
    "\n",
    "def my_fun():\n",
    "    global x\n",
    "    x = 200\n",
    "    print('local ',x)\n",
    "    \n",
    "my_fun()\n",
    "\n",
    "print('GLobal',x1)\n"
   ]
  },
  {
   "cell_type": "markdown",
   "metadata": {},
   "source": [
    "### Order of execution ---> Local,Enclosing,Global"
   ]
  },
  {
   "cell_type": "code",
   "execution_count": 6,
   "metadata": {},
   "outputs": [
    {
     "name": "stdout",
     "output_type": "stream",
     "text": [
      "Value of y global =  1000\n",
      "Value of y in func1=  100\n",
      "Value of y in func2=  10\n",
      "Value of y =  1\n"
     ]
    }
   ],
   "source": [
    "y = 1000\n",
    "\n",
    "def func1():\n",
    "    y = 100\n",
    "    print('Value of y in func1= ', y )\n",
    "    \n",
    "    def func2():\n",
    "        y = 10\n",
    "        print('Value of y in func2= ', y )\n",
    "        \n",
    "        def func3():\n",
    "            y = 1\n",
    "            print('Value of y = ', y )\n",
    "        \n",
    "        func3()\n",
    "    \n",
    "    func2()\n",
    "    \n",
    "print('Value of y global = ', y )\n",
    "func1()"
   ]
  },
  {
   "cell_type": "code",
   "execution_count": null,
   "metadata": {},
   "outputs": [],
   "source": []
  }
 ],
 "metadata": {
  "kernelspec": {
   "display_name": "Python 3",
   "language": "python",
   "name": "python3"
  },
  "language_info": {
   "codemirror_mode": {
    "name": "ipython",
    "version": 3
   },
   "file_extension": ".py",
   "mimetype": "text/x-python",
   "name": "python",
   "nbconvert_exporter": "python",
   "pygments_lexer": "ipython3",
   "version": "3.8.5"
  }
 },
 "nbformat": 4,
 "nbformat_minor": 1
}
